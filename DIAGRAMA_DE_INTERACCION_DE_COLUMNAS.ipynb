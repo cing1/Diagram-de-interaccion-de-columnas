{
  "nbformat": 4,
  "nbformat_minor": 0,
  "metadata": {
    "colab": {
      "provenance": [],
      "authorship_tag": "ABX9TyOh3pArAtQZTVk1oBrA320Q",
      "include_colab_link": true
    },
    "kernelspec": {
      "name": "python3",
      "display_name": "Python 3"
    },
    "language_info": {
      "name": "python"
    }
  },
  "cells": [
    {
      "cell_type": "markdown",
      "metadata": {
        "id": "view-in-github",
        "colab_type": "text"
      },
      "source": [
        "<a href=\"https://colab.research.google.com/github/cing1/Diagram-de-interaccion-de-columnas/blob/main/DIAGRAMA_DE_INTERACCION_DE_COLUMNAS.ipynb\" target=\"_parent\"><img src=\"https://colab.research.google.com/assets/colab-badge.svg\" alt=\"Open In Colab\"/></a>"
      ]
    },
    {
      "cell_type": "markdown",
      "source": [
        "**DIAGRAMA DE INTERACION DE COLUMNAS**"
      ],
      "metadata": {
        "id": "yy54TIpRi2tS"
      }
    },
    {
      "cell_type": "code",
      "source": [
        "import numpy as np\n",
        "import matplotlib.pyplot as plt\n",
        "import matplotlib.patches as patches"
      ],
      "metadata": {
        "id": "B-9HXQmE_eaB"
      },
      "execution_count": null,
      "outputs": []
    },
    {
      "cell_type": "code",
      "source": [
        "Asu=[[6,8,10,12,16,20,25],\n",
        "     [0.28,0.5,0.79,1.13,2.01,3.14,4.91]]\n",
        "Asn=[]\n",
        "\n",
        "# Parámetros de la columna\n",
        "b = 30 #base de la columna\n",
        "h = 30 #altura de la columna\n",
        "rec = 3 #recubrimiento\n",
        "d_ac = 12 #diatro de acero de refuerzo\n",
        "d_ac_est=10\n",
        "\n",
        "d_ac=d_ac/10\n",
        "d_ac_est=d_ac_est/10\n",
        "\n",
        "n_filas=4 #candidad de filas de acero\n",
        "n_ac_filas=[5,2,2,5] #cantidad de aceros en cada fila\n",
        "d_ac_filas=[12,12,12,12] #diametro de aceros en cada fila\n",
        "\n",
        "for i in range(len(n_ac_filas)):\n",
        "  for j in range(len(Asu[0])):\n",
        "    if d_ac_filas[i]==Asu[0][j]:\n",
        "      Asn.append(n_ac_filas[i]*Asu[1][j])"
      ],
      "metadata": {
        "id": "ufjMJOeFS1JQ"
      },
      "execution_count": null,
      "outputs": []
    },
    {
      "cell_type": "code",
      "source": [
        "#PROPIEDADES DE LOS MATERIALES\n",
        "fc=21 #[MPa]\n",
        "fy=420 #[MPa]\n",
        "E=200000 #[MPa]\n",
        "Ey=fy/E"
      ],
      "metadata": {
        "id": "bVqI7adxX3AV"
      },
      "execution_count": null,
      "outputs": []
    },
    {
      "cell_type": "code",
      "source": [
        "import matplotlib.pyplot as plt\n",
        "import matplotlib.patches as patches\n",
        "\n",
        "def dibujar_columna(b, h, rec, d_ac,d_ac_est):\n",
        "    # Crear una figura y un eje\n",
        "    fig, ax = plt.subplots()\n",
        "    # Dibujar la columna\n",
        "    columna = patches.Rectangle((0, 0), b, h, linewidth=1, edgecolor='k', facecolor='lightgray')\n",
        "    ax.add_patch(columna)\n",
        "    esp_filas = 0\n",
        "    esp_col=0\n",
        "    y0_ac=rec+d_ac_est+(d_ac/2)\n",
        "    x0_ac=rec+d_ac_est+(d_ac/2)\n",
        "    esp_filas = ( h-2*rec-2*d_ac_est-d_ac )/(n_filas-1)\n",
        "    print('espaciamiento vertical=' + str(round(esp_filas,2)))\n",
        "    # Dibujar los aceros de refuerzo en la parte superior\n",
        "    for i in range(n_filas):\n",
        "      y_ac=y0_ac+i*esp_filas\n",
        "      esp_col=( b-2*rec-2*d_ac_est-d_ac )/(n_ac_filas[i]-1)\n",
        "      print('espaciamiento horizontal ' + str(i+1) + \" = \" + str(round(esp_col,2)) + 'cm')\n",
        "\n",
        "      for j in range(n_ac_filas[i]):\n",
        "        x = x0_ac+j * esp_col\n",
        "        acero_superior = patches.Circle((x, y_ac), d_ac / 2, color='red')\n",
        "        ax.add_patch(acero_superior)\n",
        "        ax.annotate(f'As{str(i + 1)}', (x + rec, y_ac), color='black', fontsize=10, ha='center', va='bottom')\n",
        "    # Líneas segmentadas para el recubrimiento\n",
        "    ax.hlines(y=rec, xmin=rec, xmax=b-rec, color='k', linestyle='solid', linewidth=1)\n",
        "    ax.hlines(y=h-rec, xmin=rec, xmax=b-rec, color='k', linestyle='solid', linewidth=1)\n",
        "    ax.vlines(x=rec, ymin=rec, ymax=h-rec, color='k', linestyle='solid', linewidth=1)\n",
        "    ax.vlines(x=b-rec, ymin=rec, ymax=h-rec, color='k', linestyle='solid', linewidth=1)\n",
        "\n",
        "    ax.hlines(y=rec+d_ac_est, xmin=rec+d_ac_est, xmax=b-rec-d_ac_est, color='k', linestyle='solid', linewidth=1)\n",
        "    ax.hlines(y=h-rec-d_ac_est, xmin=rec+d_ac_est, xmax=b-rec-d_ac_est, color='k', linestyle='solid', linewidth=1)\n",
        "    ax.vlines(x=rec+d_ac_est, ymin=rec+d_ac_est, ymax=h-rec-d_ac_est, color='k', linestyle='solid', linewidth=1)\n",
        "    ax.vlines(x=b-rec-d_ac_est, ymin=rec+d_ac_est, ymax=h-rec-d_ac_est, color='k', linestyle='solid', linewidth=1)\n",
        "\n",
        "    # Etiquetas de dimensiones\n",
        "    ax.annotate('b=' + str(b) + 'cm', (b / 2, h+2), color='black', fontsize=10, ha='center')\n",
        "    ax.annotate('h=' + str(h) + 'cm', (b + 2, h / 2), color='black', fontsize=10, va='center', ha='center', rotation='vertical')\n",
        "\n",
        "    # Ajustar los límites del gráfico\n",
        "    ax.set_xlim(0, b + 2 * rec)\n",
        "    ax.set_ylim(0, h + 2 * rec)\n",
        "\n",
        "    # Mostrar el gráfico\n",
        "    plt.gca().set_aspect('equal', adjustable='box')\n",
        "    plt.axis('off')\n",
        "    plt.show()\n",
        "# Dibujar la columna con las cotas y rec con líneas segmentadas\n",
        "dibujar_columna(b, h, rec, d_ac,d_ac_est)\n",
        "\n"
      ],
      "metadata": {
        "colab": {
          "base_uri": "https://localhost:8080/",
          "height": 493
        },
        "id": "xGkQga1uNuJu",
        "outputId": "983783aa-4097-4640-921d-e67d18abf0d7"
      },
      "execution_count": null,
      "outputs": [
        {
          "output_type": "stream",
          "name": "stdout",
          "text": [
            "espaciamiento vertical=6.93\n",
            "espaciamiento horizontal 1 = 5.2cm\n",
            "espaciamiento horizontal 2 = 20.8cm\n",
            "espaciamiento horizontal 3 = 20.8cm\n",
            "espaciamiento horizontal 4 = 5.2cm\n"
          ]
        },
        {
          "output_type": "display_data",
          "data": {
            "text/plain": [
              "<Figure size 640x480 with 1 Axes>"
            ],
            "image/png": "[encoded data removed]"
          },
          "metadata": {}
        }
      ]
    },
    {
      "cell_type": "code",
      "source": [
        "#FORMULAS\n",
        "Pn=0.80(0.85*fc*(Ag-As1)+fy*As1)"
      ],
      "metadata": {
        "id": "s8c1QlGLjJIK"
      },
      "execution_count": null,
      "outputs": []
    }
  ]
}